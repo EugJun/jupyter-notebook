{
 "cells": [
  {
   "cell_type": "code",
   "execution_count": 5,
   "id": "d94e492f-4458-4d29-813f-4064bb64bc82",
   "metadata": {
    "scrolled": true
   },
   "outputs": [
    {
     "name": "stdout",
     "output_type": "stream",
     "text": [
      "hello Word\n"
     ]
    }
   ],
   "source": [
    "print(\"hello Word\")"
   ]
  },
  {
   "cell_type": "code",
   "execution_count": 7,
   "id": "a03cbdbd-7788-4c85-b366-548f42a267f5",
   "metadata": {},
   "outputs": [
    {
     "name": "stdout",
     "output_type": "stream",
     "text": [
      "this is CTEC 298\n"
     ]
    }
   ],
   "source": [
    "print(\"this is CTEC 298\")"
   ]
  },
  {
   "cell_type": "code",
   "execution_count": null,
   "id": "8895e096-fe58-47be-b88d-a127c95f7dee",
   "metadata": {},
   "outputs": [],
   "source": []
  }
 ],
 "metadata": {
  "kernelspec": {
   "display_name": "Python 3 (ipykernel)",
   "language": "python",
   "name": "python3"
  },
  "language_info": {
   "codemirror_mode": {
    "name": "ipython",
    "version": 3
   },
   "file_extension": ".py",
   "mimetype": "text/x-python",
   "name": "python",
   "nbconvert_exporter": "python",
   "pygments_lexer": "ipython3",
   "version": "3.12.4"
  }
 },
 "nbformat": 4,
 "nbformat_minor": 5
}
